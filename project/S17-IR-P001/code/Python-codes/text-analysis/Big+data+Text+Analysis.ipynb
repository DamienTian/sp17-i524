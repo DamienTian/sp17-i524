{
 "cells": [
  {
   "cell_type": "code",
   "execution_count": 1,
   "metadata": {
    "collapsed": true
   },
   "outputs": [],
   "source": [
    "import json\n",
    "path='/home/sriram/Downloads/'\n",
    "tweetFile='Twitter_data1.txt'\n",
    "import pandas as pd"
   ]
  },
  {
   "cell_type": "code",
   "execution_count": 2,
   "metadata": {
    "collapsed": true
   },
   "outputs": [],
   "source": [
    "tweets_data = []\n",
    "tweets_data_path=path+tweetFile\n",
    "tweets_file = open(tweets_data_path, \"r\")\n",
    "for line in tweets_file:\n",
    "    try:\n",
    "        tweet = json.loads(line)\n",
    "        tweets_data.append(tweet)\n",
    "    except:\n",
    "        continue"
   ]
  },
  {
   "cell_type": "code",
   "execution_count": 3,
   "metadata": {},
   "outputs": [
    {
     "name": "stdout",
     "output_type": "stream",
     "text": [
      "9998\n"
     ]
    }
   ],
   "source": [
    "print len(tweets_data)"
   ]
  },
  {
   "cell_type": "code",
   "execution_count": 33,
   "metadata": {
    "collapsed": true
   },
   "outputs": [],
   "source": [
    "from textblob import TextBlob\n",
    "count=0\n",
    "tweets = pd.DataFrame(index=range(len(tweets_data)), columns=['text','lang','retweeted','location','state','sentiment','country_code','lat','lon'])\n",
    "#tweets['text'] = map(lambda tweet: tweet['text'] if tweet['text']!=None else None, tweets_data)\n",
    "#tweets['lang'] = map(lambda tweet: tweet['lang'], tweets_data)\n",
    "#tweets['retweeted']= map(lambda tweet: tweet['retweeted'], tweets_data)\n",
    "#tweets['location'] = map(lambda tweet: tweet['user']['location'] if tweet['user']['location'] != None else None, tweets_data)\n",
    "\n",
    "for i in range(len(tweets_data)):\n",
    "    try:\n",
    "        tweets['text'][i] = tweets_data[i]['text']\n",
    "    except:\n",
    "        tweets['text'][i] = \"\"\n",
    "    try:\n",
    "        tweets['lang'][i]=tweets_data[i]['lang']\n",
    "    except:\n",
    "        tweets['lang'][i]='NA'\n",
    "    try:\n",
    "        tweets['retweeted'][i]=tweets_data[i]['retweeted']\n",
    "    except:\n",
    "        tweets['lang'][i]='NA'\n",
    "    try:\n",
    "        tweets['location'][i]=tweets_data[i]['user']['location']\n",
    "    except:\n",
    "        tweets['location'][i]='NA'\n",
    "    try:\n",
    "        tweets['country_code'][i]=tweets_data[i]['place']['country_code']\n",
    "    except:\n",
    "        tweets['country_code'][i]=''\n",
    "    try:\n",
    "        tweets['lon'][i]=tweets_data[i]['place']['bounding_box']['coordinates'][0][0][0]\n",
    "    except:\n",
    "        tweets['lon'][i]='NA'\n",
    "    try:\n",
    "        tweets['lat'][i]=tweets_data[i]['place']['bounding_box']['coordinates'][0][0][1]\n",
    "    except:\n",
    "        tweets['lat'][i]='NA'    "
   ]
  },
  {
   "cell_type": "code",
   "execution_count": 67,
   "metadata": {},
   "outputs": [
    {
     "name": "stdout",
     "output_type": "stream",
     "text": [
      "(1000, ' Tweets processed')\n",
      "(2000, ' Tweets processed')\n",
      "(3000, ' Tweets processed')\n",
      "(4000, ' Tweets processed')\n",
      "(5000, ' Tweets processed')\n",
      "(6000, ' Tweets processed')\n",
      "(7000, ' Tweets processed')\n",
      "(8000, ' Tweets processed')\n",
      "(9000, ' Tweets processed')\n",
      "--- 166.130603075 seconds ---\n"
     ]
    }
   ],
   "source": [
    "import time\n",
    "import zipcode\n",
    "start_time = time.time()\n",
    "count=0\n",
    "for i in range(len(tweets)):\n",
    "    blob = TextBlob(tweets['text'][i])\n",
    "    try:\n",
    "        sentence=blob.sentences[0]\n",
    "        tweets['sentiment'][i]=sentence.sentiment.polarity\n",
    "    except:\n",
    "        tweets['sentiment'][i]=0\n",
    "    try:\n",
    "        stateFromData=tweets['location'][i].split(',')[1]\n",
    "    except:\n",
    "        stateFromData=''\n",
    "    if len(stateFromData)==2:\n",
    "        tweets['state'][i]=stateFromData\n",
    "    else:\n",
    "        if tweets['lat'][i] !='NA':\n",
    "            radius=10\n",
    "            incre=10\n",
    "            zips=zipcode.isinradius((tweets['lat'][i],tweets['lon'][i]),radius)\n",
    "            while len(zips)==0:\n",
    "                radius=radius+incre\n",
    "                zips=zipcode.isinradius((tweets['lat'][i],tweets['lon'][i]),radius)\n",
    "                incre=incre+10\n",
    "            myzip = zipcode.isequal(str(zips[0].zip))\n",
    "            tweets['state'][i]=myzip.state\n",
    "        else:\n",
    "            tweets['state'][i]='NA'\n",
    "    count+=1\n",
    "    if count%1000==0:\n",
    "        print (count,\" Tweets processed\")\n",
    "print(\"--- %s seconds ---\" % (time.time() - start_time))   "
   ]
  },
  {
   "cell_type": "code",
   "execution_count": 63,
   "metadata": {},
   "outputs": [
    {
     "data": {
      "text/plain": [
       "2"
      ]
     },
     "execution_count": 63,
     "metadata": {},
     "output_type": "execute_result"
    }
   ],
   "source": [
    "len(u'IL')"
   ]
  },
  {
   "cell_type": "code",
   "execution_count": 18,
   "metadata": {},
   "outputs": [
    {
     "data": {
      "text/plain": [
       "[-89.294485, 37.670875]"
      ]
     },
     "execution_count": 18,
     "metadata": {},
     "output_type": "execute_result"
    }
   ],
   "source": [
    "import time\n",
    "start_time = time.time()\n",
    "\n",
    "for i in range(len(tweets)):\n",
    "    zipcode.isinradius((39.98,-87.29),20)"
   ]
  },
  {
   "cell_type": "code",
   "execution_count": 53,
   "metadata": {},
   "outputs": [
    {
     "data": {
      "text/html": [
       "<div>\n",
       "<table border=\"1\" class=\"dataframe\">\n",
       "  <thead>\n",
       "    <tr style=\"text-align: right;\">\n",
       "      <th></th>\n",
       "      <th>text</th>\n",
       "      <th>lang</th>\n",
       "      <th>retweeted</th>\n",
       "      <th>location</th>\n",
       "      <th>state</th>\n",
       "      <th>sentiment</th>\n",
       "      <th>country_code</th>\n",
       "      <th>lat</th>\n",
       "      <th>lon</th>\n",
       "    </tr>\n",
       "  </thead>\n",
       "  <tbody>\n",
       "    <tr>\n",
       "      <th>0</th>\n",
       "      <td>Graduation is the only time when I can call my...</td>\n",
       "      <td>en</td>\n",
       "      <td>False</td>\n",
       "      <td>Chicago, IL</td>\n",
       "      <td>MO</td>\n",
       "      <td>-0.3</td>\n",
       "      <td>US</td>\n",
       "      <td>37.6709</td>\n",
       "      <td>-89.2945</td>\n",
       "    </tr>\n",
       "    <tr>\n",
       "      <th>1</th>\n",
       "      <td>Headache 🤦🏽‍♂️</td>\n",
       "      <td>et</td>\n",
       "      <td>False</td>\n",
       "      <td>Augusta, GA</td>\n",
       "      <td>GA</td>\n",
       "      <td>0</td>\n",
       "      <td>US</td>\n",
       "      <td>33.3389</td>\n",
       "      <td>-82.212</td>\n",
       "    </tr>\n",
       "    <tr>\n",
       "      <th>2</th>\n",
       "      <td>Your girl can be up and getting ready 30min be...</td>\n",
       "      <td>en</td>\n",
       "      <td>False</td>\n",
       "      <td>Arizona, USA</td>\n",
       "      <td>AZ</td>\n",
       "      <td>0.1</td>\n",
       "      <td>US</td>\n",
       "      <td>31.3322</td>\n",
       "      <td>-114.818</td>\n",
       "    </tr>\n",
       "    <tr>\n",
       "      <th>3</th>\n",
       "      <td>Yo seriously I totally get the beers at angels...</td>\n",
       "      <td>en</td>\n",
       "      <td>False</td>\n",
       "      <td>Bakersfield, CA</td>\n",
       "      <td>CA</td>\n",
       "      <td>-0.05</td>\n",
       "      <td>US</td>\n",
       "      <td>35.2558</td>\n",
       "      <td>-119.172</td>\n",
       "    </tr>\n",
       "    <tr>\n",
       "      <th>4</th>\n",
       "      <td>#NeverForget #WestHaven #Connecticut @ West Ha...</td>\n",
       "      <td>en</td>\n",
       "      <td>False</td>\n",
       "      <td>Lower East Side, Manhattan</td>\n",
       "      <td>CT</td>\n",
       "      <td>0</td>\n",
       "      <td>US</td>\n",
       "      <td>41.2331</td>\n",
       "      <td>-72.9947</td>\n",
       "    </tr>\n",
       "  </tbody>\n",
       "</table>\n",
       "</div>"
      ],
      "text/plain": [
       "                                                text lang retweeted  \\\n",
       "0  Graduation is the only time when I can call my...   en     False   \n",
       "1                                     Headache 🤦🏽‍♂️   et     False   \n",
       "2  Your girl can be up and getting ready 30min be...   en     False   \n",
       "3  Yo seriously I totally get the beers at angels...   en     False   \n",
       "4  #NeverForget #WestHaven #Connecticut @ West Ha...   en     False   \n",
       "\n",
       "                     location state sentiment country_code      lat      lon  \n",
       "0                 Chicago, IL    MO      -0.3           US  37.6709 -89.2945  \n",
       "1                 Augusta, GA    GA         0           US  33.3389  -82.212  \n",
       "2                Arizona, USA    AZ       0.1           US  31.3322 -114.818  \n",
       "3             Bakersfield, CA    CA     -0.05           US  35.2558 -119.172  \n",
       "4  Lower East Side, Manhattan    CT         0           US  41.2331 -72.9947  "
      ]
     },
     "execution_count": 53,
     "metadata": {},
     "output_type": "execute_result"
    }
   ],
   "source": [
    "tweets.head()"
   ]
  },
  {
   "cell_type": "code",
   "execution_count": 13,
   "metadata": {},
   "outputs": [
    {
     "data": {
      "text/plain": [
       "{u'attributes': {},\n",
       " u'bounding_box': {u'coordinates': [[[-89.294485, 37.670875],\n",
       "    [-89.294485, 37.764433],\n",
       "    [-89.151934, 37.764433],\n",
       "    [-89.151934, 37.670875]]],\n",
       "  u'type': u'Polygon'},\n",
       " u'country': u'United States',\n",
       " u'country_code': u'US',\n",
       " u'full_name': u'Carbondale, IL',\n",
       " u'id': u'20d0abc87d11501a',\n",
       " u'name': u'Carbondale',\n",
       " u'place_type': u'city',\n",
       " u'url': u'https://api.twitter.com/1.1/geo/id/20d0abc87d11501a.json'}"
      ]
     },
     "execution_count": 13,
     "metadata": {},
     "output_type": "execute_result"
    }
   ],
   "source": [
    "\n",
    "zip=zipcode.isinradius((39.98,-87.29),20)\n"
   ]
  },
  {
   "cell_type": "code",
   "execution_count": null,
   "metadata": {
    "collapsed": true
   },
   "outputs": [],
   "source": []
  }
 ],
 "metadata": {
  "kernelspec": {
   "display_name": "Python 2",
   "language": "python",
   "name": "python2"
  },
  "language_info": {
   "codemirror_mode": {
    "name": "ipython",
    "version": 2
   },
   "file_extension": ".py",
   "mimetype": "text/x-python",
   "name": "python",
   "nbconvert_exporter": "python",
   "pygments_lexer": "ipython2",
   "version": "2.7.12"
  }
 },
 "nbformat": 4,
 "nbformat_minor": 2
}
